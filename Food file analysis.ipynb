{
    "cells": [
        {
            "cell_type": "markdown",
            "metadata": {},
            "source": "# Description\n\nProbando probando"
        },
        {
            "cell_type": "code",
            "execution_count": 1,
            "metadata": {},
            "outputs": [
                {
                    "name": "stdout",
                    "output_type": "stream",
                    "text": "+--------------+--------------------+----------------+--------------------+ / 1]\n|     FOOD NAME|     SCIENTIFIC NAME|           GROUP|           SUB GROUP|\n+--------------+--------------------+----------------+--------------------+\n|      Angelica|    Angelica keiskei|Herbs and Spices|               Herbs|\n| Savoy cabbage|Brassica oleracea...|      Vegetables|            Cabbages|\n| Silver linden|      Tilia argentea|Herbs and Spices|               Herbs|\n|          Kiwi| Actinidia chinensis|          Fruits|     Tropical fruits|\n|Allium (Onion)|              Allium|      Vegetables|Onion-family vege...|\n+--------------+--------------------+----------------+--------------------+\nonly showing top 5 rows\n\n"
                },
                {
                    "data": {
                        "text/plain": "configurationName = os_e9fa017af1494b0c92349a881d792ce4_configs\ncos = com.ibm.ibmos2spark.CloudObjectStorage@b13d73e2\nspark = org.apache.spark.sql.SparkSession@91a4bb02\ndfData1 = [FOOD NAME: string, SCIENTIFIC NAME: string ... 2 more fields]\n"
                    },
                    "metadata": {},
                    "output_type": "display_data"
                },
                {
                    "data": {
                        "text/plain": "getCredentials: ()scala.collection.mutable.HashMap[String,String]\n"
                    },
                    "metadata": {},
                    "output_type": "display_data"
                },
                {
                    "data": {
                        "text/plain": "[FOOD NAME: string, SCIENTIFIC NAME: string ... 2 more fields]"
                    },
                    "execution_count": 1,
                    "metadata": {},
                    "output_type": "execute_result"
                }
            ],
            "source": "// The code was removed by Watson Studio for sharing."
        }
    ],
    "metadata": {
        "kernelspec": {
            "display_name": "Scala 2.12 with Spark",
            "language": "scala",
            "name": "scala"
        },
        "language_info": {
            "codemirror_mode": "text/x-scala",
            "file_extension": ".scala",
            "mimetype": "text/x-scala",
            "name": "scala",
            "pygments_lexer": "scala",
            "version": "2.12.12"
        }
    },
    "nbformat": 4,
    "nbformat_minor": 1
}